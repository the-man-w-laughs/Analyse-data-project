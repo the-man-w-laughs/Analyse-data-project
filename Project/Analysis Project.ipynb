{
 "cells": [
  {
   "cell_type": "markdown",
   "metadata": {},
   "source": [
    "# Import software libraries"
   ]
  },
  {
   "cell_type": "code",
   "execution_count": 39,
   "metadata": {},
   "outputs": [
    {
     "name": "stdout",
     "output_type": "stream",
     "text": [
      "Libraries used in this project:\n",
      "- NumPy 1.21.5\n",
      "- Python 3.9.12 (main, Apr  4 2022, 05:22:27) [MSC v.1916 64 bit (AMD64)]\n",
      "- pandas 1.4.2\n",
      "- Matplotlib 3.5.1\n",
      "- Seaborn 0.11.2\n"
     ]
    }
   ],
   "source": [
    "# Import required libraries.\n",
    "import sys                          # Read system parameters.\n",
    "import numpy as np                  # Work with multi-dimensional arrays.\n",
    "import pandas as pd                 # Manipulate and analyze data.\n",
    "import matplotlib                   # Create and format charts.\n",
    "import matplotlib.pyplot as plt  \n",
    "import seaborn as sns               # Make charting easier.\n",
    "import category_encoders as ce\n",
    "\n",
    "# Summarize software libraries used.\n",
    "print('Libraries used in this project:')\n",
    "print('- NumPy {}'.format(np.__version__))\n",
    "print('- Python {}'.format(sys.version))\n",
    "print('- pandas {}'.format(pd.__version__))\n",
    "print('- Matplotlib {}'.format(matplotlib.__version__))\n",
    "print('- Seaborn {}'.format(sns.__version__))"
   ]
  },
  {
   "cell_type": "markdown",
   "metadata": {},
   "source": [
    "# Read and examine the data"
   ]
  },
  {
   "cell_type": "code",
   "execution_count": 40,
   "metadata": {},
   "outputs": [
    {
     "data": {
      "text/html": [
       "<div>\n",
       "<style scoped>\n",
       "    .dataframe tbody tr th:only-of-type {\n",
       "        vertical-align: middle;\n",
       "    }\n",
       "\n",
       "    .dataframe tbody tr th {\n",
       "        vertical-align: top;\n",
       "    }\n",
       "\n",
       "    .dataframe thead th {\n",
       "        text-align: right;\n",
       "    }\n",
       "</style>\n",
       "<table border=\"1\" class=\"dataframe\">\n",
       "  <thead>\n",
       "    <tr style=\"text-align: right;\">\n",
       "      <th></th>\n",
       "      <th>Invoice</th>\n",
       "      <th>StockCode</th>\n",
       "      <th>Quantity</th>\n",
       "      <th>InvoiceDate</th>\n",
       "      <th>Price</th>\n",
       "      <th>CustomerID</th>\n",
       "      <th>Country</th>\n",
       "      <th>TotalAmount</th>\n",
       "      <th>Description</th>\n",
       "    </tr>\n",
       "  </thead>\n",
       "  <tbody>\n",
       "    <tr>\n",
       "      <th>0</th>\n",
       "      <td>536365</td>\n",
       "      <td>85123A</td>\n",
       "      <td>6</td>\n",
       "      <td>2010-12-01 08:26:00</td>\n",
       "      <td>2.55</td>\n",
       "      <td>u1785</td>\n",
       "      <td>United Kingdom</td>\n",
       "      <td>15.30</td>\n",
       "      <td>CREAM HANGING HEART T-LIGHT HOLDER</td>\n",
       "    </tr>\n",
       "    <tr>\n",
       "      <th>1</th>\n",
       "      <td>536367</td>\n",
       "      <td>84879</td>\n",
       "      <td>32</td>\n",
       "      <td>2010-12-01 08:34:00</td>\n",
       "      <td>1.69</td>\n",
       "      <td>u13047</td>\n",
       "      <td>United Kingdom</td>\n",
       "      <td>54.08</td>\n",
       "      <td>ASSORTED COLOUR BIRD ORNAMENT</td>\n",
       "    </tr>\n",
       "    <tr>\n",
       "      <th>2</th>\n",
       "      <td>536373</td>\n",
       "      <td>85123A</td>\n",
       "      <td>6</td>\n",
       "      <td>2010-12-01 09:02:00</td>\n",
       "      <td>2.55</td>\n",
       "      <td>u1785</td>\n",
       "      <td>United Kingdom</td>\n",
       "      <td>15.30</td>\n",
       "      <td>CREAM HANGING HEART T-LIGHT HOLDER</td>\n",
       "    </tr>\n",
       "    <tr>\n",
       "      <th>3</th>\n",
       "      <td>536375</td>\n",
       "      <td>85123A</td>\n",
       "      <td>6</td>\n",
       "      <td>2010-12-01 09:32:00</td>\n",
       "      <td>2.55</td>\n",
       "      <td>u1785</td>\n",
       "      <td>United Kingdom</td>\n",
       "      <td>15.30</td>\n",
       "      <td>CREAM HANGING HEART T-LIGHT HOLDER</td>\n",
       "    </tr>\n",
       "    <tr>\n",
       "      <th>4</th>\n",
       "      <td>536378</td>\n",
       "      <td>20725</td>\n",
       "      <td>10</td>\n",
       "      <td>2010-12-01 09:37:00</td>\n",
       "      <td>1.65</td>\n",
       "      <td>u14688</td>\n",
       "      <td>United Kingdom</td>\n",
       "      <td>16.50</td>\n",
       "      <td>LUNCH BAG RED RETROSPOT</td>\n",
       "    </tr>\n",
       "  </tbody>\n",
       "</table>\n",
       "</div>"
      ],
      "text/plain": [
       "  Invoice StockCode  Quantity         InvoiceDate  Price CustomerID  \\\n",
       "0  536365    85123A         6 2010-12-01 08:26:00   2.55      u1785   \n",
       "1  536367     84879        32 2010-12-01 08:34:00   1.69     u13047   \n",
       "2  536373    85123A         6 2010-12-01 09:02:00   2.55      u1785   \n",
       "3  536375    85123A         6 2010-12-01 09:32:00   2.55      u1785   \n",
       "4  536378     20725        10 2010-12-01 09:37:00   1.65     u14688   \n",
       "\n",
       "          Country  TotalAmount                         Description  \n",
       "0  United Kingdom        15.30  CREAM HANGING HEART T-LIGHT HOLDER  \n",
       "1  United Kingdom        54.08       ASSORTED COLOUR BIRD ORNAMENT  \n",
       "2  United Kingdom        15.30  CREAM HANGING HEART T-LIGHT HOLDER  \n",
       "3  United Kingdom        15.30  CREAM HANGING HEART T-LIGHT HOLDER  \n",
       "4  United Kingdom        16.50             LUNCH BAG RED RETROSPOT  "
      ]
     },
     "execution_count": 40,
     "metadata": {},
     "output_type": "execute_result"
    }
   ],
   "source": [
    "# Read the data that was put through the ETL process in Course 2 of the CDSP Specialization. \n",
    "online_history = pd.read_pickle('data/online_history_cleaned.pickle')\n",
    "\n",
    "# Preview the first five rows of the data.\n",
    "\n",
    "online_history.head()"
   ]
  },
  {
   "cell_type": "code",
   "execution_count": 41,
   "metadata": {},
   "outputs": [
    {
     "data": {
      "text/plain": [
       "(15206, 9)"
      ]
     },
     "execution_count": 41,
     "metadata": {},
     "output_type": "execute_result"
    }
   ],
   "source": [
    "# Get the shape of the data.\n",
    "\n",
    "online_history.shape"
   ]
  },
  {
   "cell_type": "code",
   "execution_count": 42,
   "metadata": {},
   "outputs": [
    {
     "name": "stdout",
     "output_type": "stream",
     "text": [
      "<class 'pandas.core.frame.DataFrame'>\n",
      "Int64Index: 15206 entries, 0 to 17031\n",
      "Data columns (total 9 columns):\n",
      " #   Column       Non-Null Count  Dtype         \n",
      "---  ------       --------------  -----         \n",
      " 0   Invoice      15206 non-null  object        \n",
      " 1   StockCode    15206 non-null  object        \n",
      " 2   Quantity     15206 non-null  int64         \n",
      " 3   InvoiceDate  15206 non-null  datetime64[ns]\n",
      " 4   Price        15194 non-null  float64       \n",
      " 5   CustomerID   12435 non-null  object        \n",
      " 6   Country      15206 non-null  object        \n",
      " 7   TotalAmount  15194 non-null  float64       \n",
      " 8   Description  15206 non-null  object        \n",
      "dtypes: datetime64[ns](1), float64(2), int64(1), object(5)\n",
      "memory usage: 1.2+ MB\n"
     ]
    }
   ],
   "source": [
    "# Get the data types for every column in the DataFrame.\n",
    "\n",
    "online_history.info()"
   ]
  },
  {
   "cell_type": "markdown",
   "metadata": {},
   "source": [
    "# Generate summary statistics for all of the data"
   ]
  },
  {
   "cell_type": "code",
   "execution_count": 43,
   "metadata": {},
   "outputs": [
    {
     "data": {
      "text/html": [
       "<div>\n",
       "<style scoped>\n",
       "    .dataframe tbody tr th:only-of-type {\n",
       "        vertical-align: middle;\n",
       "    }\n",
       "\n",
       "    .dataframe tbody tr th {\n",
       "        vertical-align: top;\n",
       "    }\n",
       "\n",
       "    .dataframe thead th {\n",
       "        text-align: right;\n",
       "    }\n",
       "</style>\n",
       "<table border=\"1\" class=\"dataframe\">\n",
       "  <thead>\n",
       "    <tr style=\"text-align: right;\">\n",
       "      <th></th>\n",
       "      <th>Invoice</th>\n",
       "      <th>StockCode</th>\n",
       "      <th>Quantity</th>\n",
       "      <th>InvoiceDate</th>\n",
       "      <th>Price</th>\n",
       "      <th>CustomerID</th>\n",
       "      <th>Country</th>\n",
       "      <th>TotalAmount</th>\n",
       "      <th>Description</th>\n",
       "    </tr>\n",
       "  </thead>\n",
       "  <tbody>\n",
       "    <tr>\n",
       "      <th>count</th>\n",
       "      <td>15206</td>\n",
       "      <td>15206</td>\n",
       "      <td>15206.000000</td>\n",
       "      <td>15206</td>\n",
       "      <td>15194.000000</td>\n",
       "      <td>12435</td>\n",
       "      <td>15206</td>\n",
       "      <td>15194.000000</td>\n",
       "      <td>15206</td>\n",
       "    </tr>\n",
       "    <tr>\n",
       "      <th>unique</th>\n",
       "      <td>8315</td>\n",
       "      <td>10</td>\n",
       "      <td>NaN</td>\n",
       "      <td>NaN</td>\n",
       "      <td>NaN</td>\n",
       "      <td>2473</td>\n",
       "      <td>1</td>\n",
       "      <td>NaN</td>\n",
       "      <td>10</td>\n",
       "    </tr>\n",
       "    <tr>\n",
       "      <th>top</th>\n",
       "      <td>536876</td>\n",
       "      <td>85123A</td>\n",
       "      <td>NaN</td>\n",
       "      <td>NaN</td>\n",
       "      <td>NaN</td>\n",
       "      <td>u17841</td>\n",
       "      <td>United Kingdom</td>\n",
       "      <td>NaN</td>\n",
       "      <td>CREAM HANGING HEART T-LIGHT HOLDER</td>\n",
       "    </tr>\n",
       "    <tr>\n",
       "      <th>freq</th>\n",
       "      <td>10</td>\n",
       "      <td>2163</td>\n",
       "      <td>NaN</td>\n",
       "      <td>NaN</td>\n",
       "      <td>NaN</td>\n",
       "      <td>171</td>\n",
       "      <td>15206</td>\n",
       "      <td>NaN</td>\n",
       "      <td>2163</td>\n",
       "    </tr>\n",
       "    <tr>\n",
       "      <th>mean</th>\n",
       "      <td>NaN</td>\n",
       "      <td>NaN</td>\n",
       "      <td>16.775483</td>\n",
       "      <td>2011-06-19 06:03:05.279494912</td>\n",
       "      <td>4.164267</td>\n",
       "      <td>NaN</td>\n",
       "      <td>NaN</td>\n",
       "      <td>40.705153</td>\n",
       "      <td>NaN</td>\n",
       "    </tr>\n",
       "    <tr>\n",
       "      <th>min</th>\n",
       "      <td>NaN</td>\n",
       "      <td>NaN</td>\n",
       "      <td>1.000000</td>\n",
       "      <td>2010-12-01 08:26:00</td>\n",
       "      <td>0.400000</td>\n",
       "      <td>NaN</td>\n",
       "      <td>NaN</td>\n",
       "      <td>0.550000</td>\n",
       "      <td>NaN</td>\n",
       "    </tr>\n",
       "    <tr>\n",
       "      <th>25%</th>\n",
       "      <td>NaN</td>\n",
       "      <td>NaN</td>\n",
       "      <td>2.000000</td>\n",
       "      <td>2011-03-22 15:31:00</td>\n",
       "      <td>1.650000</td>\n",
       "      <td>NaN</td>\n",
       "      <td>NaN</td>\n",
       "      <td>8.850000</td>\n",
       "      <td>NaN</td>\n",
       "    </tr>\n",
       "    <tr>\n",
       "      <th>50%</th>\n",
       "      <td>NaN</td>\n",
       "      <td>NaN</td>\n",
       "      <td>6.000000</td>\n",
       "      <td>2011-06-20 12:32:00</td>\n",
       "      <td>2.550000</td>\n",
       "      <td>NaN</td>\n",
       "      <td>NaN</td>\n",
       "      <td>16.500000</td>\n",
       "      <td>NaN</td>\n",
       "    </tr>\n",
       "    <tr>\n",
       "      <th>75%</th>\n",
       "      <td>NaN</td>\n",
       "      <td>NaN</td>\n",
       "      <td>12.000000</td>\n",
       "      <td>2011-09-23 12:57:30</td>\n",
       "      <td>4.950000</td>\n",
       "      <td>NaN</td>\n",
       "      <td>NaN</td>\n",
       "      <td>30.360000</td>\n",
       "      <td>NaN</td>\n",
       "    </tr>\n",
       "    <tr>\n",
       "      <th>max</th>\n",
       "      <td>NaN</td>\n",
       "      <td>NaN</td>\n",
       "      <td>4300.000000</td>\n",
       "      <td>2011-12-09 12:31:00</td>\n",
       "      <td>32.040000</td>\n",
       "      <td>NaN</td>\n",
       "      <td>NaN</td>\n",
       "      <td>4921.500000</td>\n",
       "      <td>NaN</td>\n",
       "    </tr>\n",
       "    <tr>\n",
       "      <th>std</th>\n",
       "      <td>NaN</td>\n",
       "      <td>NaN</td>\n",
       "      <td>79.496270</td>\n",
       "      <td>NaN</td>\n",
       "      <td>4.377605</td>\n",
       "      <td>NaN</td>\n",
       "      <td>NaN</td>\n",
       "      <td>132.142503</td>\n",
       "      <td>NaN</td>\n",
       "    </tr>\n",
       "  </tbody>\n",
       "</table>\n",
       "</div>"
      ],
      "text/plain": [
       "       Invoice StockCode      Quantity                    InvoiceDate  \\\n",
       "count    15206     15206  15206.000000                          15206   \n",
       "unique    8315        10           NaN                            NaN   \n",
       "top     536876    85123A           NaN                            NaN   \n",
       "freq        10      2163           NaN                            NaN   \n",
       "mean       NaN       NaN     16.775483  2011-06-19 06:03:05.279494912   \n",
       "min        NaN       NaN      1.000000            2010-12-01 08:26:00   \n",
       "25%        NaN       NaN      2.000000            2011-03-22 15:31:00   \n",
       "50%        NaN       NaN      6.000000            2011-06-20 12:32:00   \n",
       "75%        NaN       NaN     12.000000            2011-09-23 12:57:30   \n",
       "max        NaN       NaN   4300.000000            2011-12-09 12:31:00   \n",
       "std        NaN       NaN     79.496270                            NaN   \n",
       "\n",
       "               Price CustomerID         Country   TotalAmount  \\\n",
       "count   15194.000000      12435           15206  15194.000000   \n",
       "unique           NaN       2473               1           NaN   \n",
       "top              NaN     u17841  United Kingdom           NaN   \n",
       "freq             NaN        171           15206           NaN   \n",
       "mean        4.164267        NaN             NaN     40.705153   \n",
       "min         0.400000        NaN             NaN      0.550000   \n",
       "25%         1.650000        NaN             NaN      8.850000   \n",
       "50%         2.550000        NaN             NaN     16.500000   \n",
       "75%         4.950000        NaN             NaN     30.360000   \n",
       "max        32.040000        NaN             NaN   4921.500000   \n",
       "std         4.377605        NaN             NaN    132.142503   \n",
       "\n",
       "                               Description  \n",
       "count                                15206  \n",
       "unique                                  10  \n",
       "top     CREAM HANGING HEART T-LIGHT HOLDER  \n",
       "freq                                  2163  \n",
       "mean                                   NaN  \n",
       "min                                    NaN  \n",
       "25%                                    NaN  \n",
       "50%                                    NaN  \n",
       "75%                                    NaN  \n",
       "max                                    NaN  \n",
       "std                                    NaN  "
      ]
     },
     "execution_count": 43,
     "metadata": {},
     "output_type": "execute_result"
    }
   ],
   "source": [
    "# Get a DataFrame of summary statistics that describe the data, including mean, median, standard deviation, etc.\n",
    "# Be sure to include all variables, including categorical ones.\n",
    "\n",
    "online_history.describe(datetime_is_numeric = True, include = 'all')"
   ]
  },
  {
   "cell_type": "markdown",
   "metadata": {},
   "source": [
    "# Plot a bar chart for the average price per item"
   ]
  },
  {
   "cell_type": "code",
   "execution_count": 44,
   "metadata": {},
   "outputs": [
    {
     "data": {
      "text/plain": [
       "Text(0, 0.5, 'Mean price')"
      ]
     },
     "execution_count": 44,
     "metadata": {},
     "output_type": "execute_result"
    },
    {
     "data": {
      "image/png": "[encoded data removed]",
      "text/plain": [
       "<Figure size 432x288 with 1 Axes>"
      ]
     },
     "metadata": {
      "needs_background": "light"
     },
     "output_type": "display_data"
    }
   ],
   "source": [
    "# Plot the average price per item using a bar chart.\n",
    "# Make sure the average price is on one axis, and each distinct item description is on the other axis.\n",
    "\n",
    "description_list = online_history.Description.unique()\n",
    "\n",
    "mean_dict = dict()\n",
    "for description in description_list:\n",
    "    mean_dict[description] = online_history[online_history.Description == description].Price.mean()\n",
    "mean_series = pd.Series(mean_dict)\n",
    "\n",
    "mean_series.sort_values(inplace = True, ascending = False)\n",
    "mean_series.plot(kind = 'bar', alpha = 0.5, edgecolor = 'black')\n",
    "\n",
    "plt.title('Average goods price', size = 12, weight = 'bold')\n",
    "plt.xticks(rotation = 90, size = 11)\n",
    "plt.xlabel('Description', size = 10, weight = 'bold')\n",
    "plt.ylabel('Mean price', size = 10, weight = 'bold')"
   ]
  },
  {
   "cell_type": "code",
   "execution_count": 45,
   "metadata": {},
   "outputs": [
    {
     "name": "stdout",
     "output_type": "stream",
     "text": [
      "Min average price:  0.799 - PACK OF 72 RETROSPOT CAKE CASES;\n",
      "Max average price: 14.282 - REGENCY CAKESTAND 3 TIER.\n"
     ]
    }
   ],
   "source": [
    "print(f'Min average price: {mean_series.min():6.3f} - {mean_series[mean_series.values == mean_series.min()].index[0]};')\n",
    "print(f'Max average price: {mean_series.max():6.3f} - {mean_series[mean_series.values == mean_series.max()].index[0]}.')"
   ]
  },
  {
   "cell_type": "markdown",
   "metadata": {},
   "source": [
    "# Explore the distribution of the numeric variable `Price`"
   ]
  },
  {
   "cell_type": "code",
   "execution_count": 46,
   "metadata": {},
   "outputs": [
    {
     "data": {
      "text/html": [
       "<div>\n",
       "<style scoped>\n",
       "    .dataframe tbody tr th:only-of-type {\n",
       "        vertical-align: middle;\n",
       "    }\n",
       "\n",
       "    .dataframe tbody tr th {\n",
       "        vertical-align: top;\n",
       "    }\n",
       "\n",
       "    .dataframe thead th {\n",
       "        text-align: right;\n",
       "    }\n",
       "</style>\n",
       "<table border=\"1\" class=\"dataframe\">\n",
       "  <thead>\n",
       "    <tr style=\"text-align: right;\">\n",
       "      <th></th>\n",
       "      <th>Quantity</th>\n",
       "      <th>Price</th>\n",
       "      <th>TotalAmount</th>\n",
       "    </tr>\n",
       "  </thead>\n",
       "  <tbody>\n",
       "    <tr>\n",
       "      <th>count</th>\n",
       "      <td>15206.000000</td>\n",
       "      <td>15194.000000</td>\n",
       "      <td>15194.000000</td>\n",
       "    </tr>\n",
       "    <tr>\n",
       "      <th>mean</th>\n",
       "      <td>16.775483</td>\n",
       "      <td>4.164267</td>\n",
       "      <td>40.705153</td>\n",
       "    </tr>\n",
       "    <tr>\n",
       "      <th>std</th>\n",
       "      <td>79.496270</td>\n",
       "      <td>4.377605</td>\n",
       "      <td>132.142503</td>\n",
       "    </tr>\n",
       "    <tr>\n",
       "      <th>min</th>\n",
       "      <td>1.000000</td>\n",
       "      <td>0.400000</td>\n",
       "      <td>0.550000</td>\n",
       "    </tr>\n",
       "    <tr>\n",
       "      <th>25%</th>\n",
       "      <td>2.000000</td>\n",
       "      <td>1.650000</td>\n",
       "      <td>8.850000</td>\n",
       "    </tr>\n",
       "    <tr>\n",
       "      <th>50%</th>\n",
       "      <td>6.000000</td>\n",
       "      <td>2.550000</td>\n",
       "      <td>16.500000</td>\n",
       "    </tr>\n",
       "    <tr>\n",
       "      <th>75%</th>\n",
       "      <td>12.000000</td>\n",
       "      <td>4.950000</td>\n",
       "      <td>30.360000</td>\n",
       "    </tr>\n",
       "    <tr>\n",
       "      <th>max</th>\n",
       "      <td>4300.000000</td>\n",
       "      <td>32.040000</td>\n",
       "      <td>4921.500000</td>\n",
       "    </tr>\n",
       "  </tbody>\n",
       "</table>\n",
       "</div>"
      ],
      "text/plain": [
       "           Quantity         Price   TotalAmount\n",
       "count  15206.000000  15194.000000  15194.000000\n",
       "mean      16.775483      4.164267     40.705153\n",
       "std       79.496270      4.377605    132.142503\n",
       "min        1.000000      0.400000      0.550000\n",
       "25%        2.000000      1.650000      8.850000\n",
       "50%        6.000000      2.550000     16.500000\n",
       "75%       12.000000      4.950000     30.360000\n",
       "max     4300.000000     32.040000   4921.500000"
      ]
     },
     "execution_count": 46,
     "metadata": {},
     "output_type": "execute_result"
    }
   ],
   "source": [
    "# Get a DataFrame of summary statistics for numeric variables only.\n",
    "\n",
    "online_history.describe()"
   ]
  },
  {
   "cell_type": "code",
   "execution_count": 47,
   "metadata": {},
   "outputs": [
    {
     "data": {
      "text/plain": [
       "<AxesSubplot:xlabel='Price'>"
      ]
     },
     "execution_count": 47,
     "metadata": {},
     "output_type": "execute_result"
    },
    {
     "data": {
      "image/png": "[encoded data removed]",
      "text/plain": [
       "<Figure size 432x288 with 1 Axes>"
      ]
     },
     "metadata": {
      "needs_background": "light"
     },
     "output_type": "display_data"
    }
   ],
   "source": [
    "# Generate a violin plot for the \"Price\" variable.\n",
    "# Decorate and style the plot however you think is best.\n",
    "\n",
    "sns.violinplot(x = online_history['Price'], linewidth = 0.9)"
   ]
  },
  {
   "cell_type": "markdown",
   "metadata": {},
   "source": [
    "# Visualize correlations between numeric variables"
   ]
  },
  {
   "cell_type": "code",
   "execution_count": 48,
   "metadata": {},
   "outputs": [
    {
     "data": {
      "text/html": [
       "<div>\n",
       "<style scoped>\n",
       "    .dataframe tbody tr th:only-of-type {\n",
       "        vertical-align: middle;\n",
       "    }\n",
       "\n",
       "    .dataframe tbody tr th {\n",
       "        vertical-align: top;\n",
       "    }\n",
       "\n",
       "    .dataframe thead th {\n",
       "        text-align: right;\n",
       "    }\n",
       "</style>\n",
       "<table border=\"1\" class=\"dataframe\">\n",
       "  <thead>\n",
       "    <tr style=\"text-align: right;\">\n",
       "      <th></th>\n",
       "      <th>Quantity</th>\n",
       "      <th>Price</th>\n",
       "      <th>TotalAmount</th>\n",
       "    </tr>\n",
       "  </thead>\n",
       "  <tbody>\n",
       "    <tr>\n",
       "      <th>Quantity</th>\n",
       "      <td>1.000000</td>\n",
       "      <td>-0.088356</td>\n",
       "      <td>0.745641</td>\n",
       "    </tr>\n",
       "    <tr>\n",
       "      <th>Price</th>\n",
       "      <td>-0.088356</td>\n",
       "      <td>1.000000</td>\n",
       "      <td>0.109054</td>\n",
       "    </tr>\n",
       "    <tr>\n",
       "      <th>TotalAmount</th>\n",
       "      <td>0.745641</td>\n",
       "      <td>0.109054</td>\n",
       "      <td>1.000000</td>\n",
       "    </tr>\n",
       "  </tbody>\n",
       "</table>\n",
       "</div>"
      ],
      "text/plain": [
       "             Quantity     Price  TotalAmount\n",
       "Quantity     1.000000 -0.088356     0.745641\n",
       "Price       -0.088356  1.000000     0.109054\n",
       "TotalAmount  0.745641  0.109054     1.000000"
      ]
     },
     "execution_count": 48,
     "metadata": {},
     "output_type": "execute_result"
    }
   ],
   "source": [
    "# Generate a correlation matrix between all numeric variables.\n",
    "\n",
    "corr_matrix = online_history.corr()\n",
    "corr_matrix"
   ]
  },
  {
   "cell_type": "code",
   "execution_count": 49,
   "metadata": {},
   "outputs": [
    {
     "data": {
      "text/plain": [
       "Text(0.5, 1.0, 'Correlation Plot')"
      ]
     },
     "execution_count": 49,
     "metadata": {},
     "output_type": "execute_result"
    },
    {
     "data": {
      "image/png": "[encoded data removed]",
      "text/plain": [
       "<Figure size 720x576 with 2 Axes>"
      ]
     },
     "metadata": {
      "needs_background": "light"
     },
     "output_type": "display_data"
    }
   ],
   "source": [
    "# Visualize the correlations with a heatmap.\n",
    "\n",
    "fig = plt.figure(figsize = (10,8))\n",
    "\n",
    "sns.heatmap(corr_matrix,\n",
    "           cmap = 'seismic',\n",
    "           linewidth = 0.75,\n",
    "           linecolor = 'black',\n",
    "           cbar = True,\n",
    "           vmin = -1,\n",
    "           vmax = 1,\n",
    "           annot = True,\n",
    "           annot_kws = {'size' : 16, 'color' : 'black'})\n",
    "\n",
    "plt.tick_params(labelsize = 14)\n",
    "plt.yticks(rotation = 0)\n",
    "plt.title('Correlation Plot', size = 16)"
   ]
  },
  {
   "cell_type": "markdown",
   "metadata": {},
   "source": [
    "# Transform skewed variables"
   ]
  },
  {
   "cell_type": "code",
   "execution_count": 50,
   "metadata": {},
   "outputs": [
    {
     "data": {
      "text/plain": [
       "array([[<AxesSubplot:title={'center':'Quantity'}>,\n",
       "        <AxesSubplot:title={'center':'Price'}>],\n",
       "       [<AxesSubplot:title={'center':'TotalAmount'}>, <AxesSubplot:>]],\n",
       "      dtype=object)"
      ]
     },
     "execution_count": 50,
     "metadata": {},
     "output_type": "execute_result"
    },
    {
     "data": {
      "image/png": "[encoded data removed]",
      "text/plain": [
       "<Figure size 1440x720 with 4 Axes>"
      ]
     },
     "metadata": {
      "needs_background": "light"
     },
     "output_type": "display_data"
    }
   ],
   "source": [
    "# Plot histograms for the original distributions of all numeric variables.\n",
    "\n",
    "users_data_for_hist = \\\n",
    "online_history.select_dtypes(include = ['int64', 'float64'])\n",
    "\n",
    "users_data_for_hist.hist(figsize = (20,10), alpha = 0.5,\n",
    "                   edgecolor = 'black', grid = False)"
   ]
  },
  {
   "cell_type": "code",
   "execution_count": 51,
   "metadata": {},
   "outputs": [
    {
     "data": {
      "text/plain": [
       "Text(0.5, 1.0, 'Log Transformation of Price')"
      ]
     },
     "execution_count": 51,
     "metadata": {},
     "output_type": "execute_result"
    },
    {
     "data": {
      "image/png": "[encoded data removed]",
      "text/plain": [
       "<Figure size 432x288 with 1 Axes>"
      ]
     },
     "metadata": {
      "needs_background": "light"
     },
     "output_type": "display_data"
    }
   ],
   "source": [
    "# Plot the log transformation of \"Price\".\n",
    "\n",
    "online_history['Price'] = np.log(online_history['Price'])\n",
    "online_history['Price'].hist()\n",
    "plt.title('Log Transformation of Price')"
   ]
  },
  {
   "cell_type": "code",
   "execution_count": 52,
   "metadata": {},
   "outputs": [
    {
     "data": {
      "text/plain": [
       "Text(0.5, 1.0, 'Log Transformation of Quantity')"
      ]
     },
     "execution_count": 52,
     "metadata": {},
     "output_type": "execute_result"
    },
    {
     "data": {
      "image/png": "[encoded data removed]",
      "text/plain": [
       "<Figure size 432x288 with 1 Axes>"
      ]
     },
     "metadata": {
      "needs_background": "light"
     },
     "output_type": "display_data"
    }
   ],
   "source": [
    "# Plot the log transformation of \"Quantity\".\n",
    "\n",
    "online_history['Quantity'] = np.log(online_history['Quantity'])\n",
    "online_history['Quantity'].hist()\n",
    "plt.title('Log Transformation of Quantity')"
   ]
  },
  {
   "cell_type": "code",
   "execution_count": 53,
   "metadata": {},
   "outputs": [
    {
     "data": {
      "text/plain": [
       "Text(0.5, 1.0, 'Log Transformation of TotalAmount')"
      ]
     },
     "execution_count": 53,
     "metadata": {},
     "output_type": "execute_result"
    },
    {
     "data": {
      "image/png": "[encoded data removed]",
      "text/plain": [
       "<Figure size 432x288 with 1 Axes>"
      ]
     },
     "metadata": {
      "needs_background": "light"
     },
     "output_type": "display_data"
    }
   ],
   "source": [
    "# Plot the log transformation of \"TotalAmount\".\n",
    "\n",
    "online_history['TotalAmount'] = np.log(online_history['TotalAmount'])\n",
    "online_history['TotalAmount'].hist()\n",
    "plt.title('Log Transformation of TotalAmount')"
   ]
  },
  {
   "cell_type": "markdown",
   "metadata": {},
   "source": [
    "# Analyze time series data"
   ]
  },
  {
   "cell_type": "code",
   "execution_count": 54,
   "metadata": {},
   "outputs": [
    {
     "data": {
      "text/plain": [
       "11    1726\n",
       "12    1498\n",
       "5     1384\n",
       "9     1378\n",
       "3     1345\n",
       "10    1257\n",
       "7     1227\n",
       "6     1203\n",
       "8     1169\n",
       "4     1140\n",
       "2      956\n",
       "1      923\n",
       "Name: InvoiceDate, dtype: int64"
      ]
     },
     "execution_count": 54,
     "metadata": {},
     "output_type": "execute_result"
    }
   ],
   "source": [
    "# Obtain the number of invoices by month.\n",
    "\n",
    "invoices_by_month = online_history.InvoiceDate.dt.month.value_counts()\n",
    "\n",
    "# Print the number of invoices by month.\n",
    "\n",
    "invoices_by_month"
   ]
  },
  {
   "cell_type": "code",
   "execution_count": 55,
   "metadata": {},
   "outputs": [
    {
     "data": {
      "text/plain": [
       "<AxesSubplot:>"
      ]
     },
     "execution_count": 55,
     "metadata": {},
     "output_type": "execute_result"
    },
    {
     "data": {
      "image/png": "[encoded data removed]",
      "text/plain": [
       "<Figure size 432x288 with 1 Axes>"
      ]
     },
     "metadata": {
      "needs_background": "light"
     },
     "output_type": "display_data"
    }
   ],
   "source": [
    "# Use a bar chart to plot the number of invoices by month.\n",
    "\n",
    "invoices_by_month.plot(kind = 'bar')"
   ]
  },
  {
   "cell_type": "markdown",
   "metadata": {},
   "source": [
    "# Identify and handle missing data"
   ]
  },
  {
   "cell_type": "code",
   "execution_count": 56,
   "metadata": {},
   "outputs": [
    {
     "data": {
      "text/plain": [
       "Invoice           0\n",
       "StockCode         0\n",
       "Quantity          0\n",
       "InvoiceDate       0\n",
       "Price            12\n",
       "CustomerID     2771\n",
       "Country           0\n",
       "TotalAmount      12\n",
       "Description       0\n",
       "dtype: int64"
      ]
     },
     "execution_count": 56,
     "metadata": {},
     "output_type": "execute_result"
    }
   ],
   "source": [
    "# Identify any missing data for all variables.\n",
    "\n",
    "online_history.isnull().sum()"
   ]
  },
  {
   "cell_type": "code",
   "execution_count": 57,
   "metadata": {},
   "outputs": [
    {
     "name": "stdout",
     "output_type": "stream",
     "text": [
      "Shape: (15206, 9)\n",
      "Shape: (12435, 9)\n"
     ]
    }
   ],
   "source": [
    "# Print the current shape of the data.\n",
    "\n",
    "print(f'Shape: {online_history.shape}')\n",
    "\n",
    "# Remove rows of data where \"CustomerID\" is unknown\n",
    "online_history = online_history[online_history.CustomerID.notna()]\n",
    "# Print the new shape of the data.\n",
    "print(f'Shape: {online_history.shape}')"
   ]
  },
  {
   "cell_type": "code",
   "execution_count": 58,
   "metadata": {},
   "outputs": [
    {
     "data": {
      "text/plain": [
       "Invoice        0\n",
       "StockCode      0\n",
       "Quantity       0\n",
       "InvoiceDate    0\n",
       "Price          0\n",
       "CustomerID     0\n",
       "Country        0\n",
       "TotalAmount    0\n",
       "Description    0\n",
       "dtype: int64"
      ]
     },
     "execution_count": 58,
     "metadata": {},
     "output_type": "execute_result"
    }
   ],
   "source": [
    "# Fill in N/A values for \"Price\" and \"TotalAmount\" with 0.\n",
    "\n",
    "online_history['Price'].fillna(0, inplace = True)\n",
    "online_history['TotalAmount'].fillna(0, inplace = True)\n",
    "# Confirm there are no longer any missing values.\n",
    "\n",
    "online_history.isnull().sum()"
   ]
  },
  {
   "cell_type": "markdown",
   "metadata": {},
   "source": [
    "# One-hot encode the `Description` variable"
   ]
  },
  {
   "cell_type": "code",
   "execution_count": 59,
   "metadata": {},
   "outputs": [
    {
     "data": {
      "text/html": [
       "<div>\n",
       "<style scoped>\n",
       "    .dataframe tbody tr th:only-of-type {\n",
       "        vertical-align: middle;\n",
       "    }\n",
       "\n",
       "    .dataframe tbody tr th {\n",
       "        vertical-align: top;\n",
       "    }\n",
       "\n",
       "    .dataframe thead th {\n",
       "        text-align: right;\n",
       "    }\n",
       "</style>\n",
       "<table border=\"1\" class=\"dataframe\">\n",
       "  <thead>\n",
       "    <tr style=\"text-align: right;\">\n",
       "      <th></th>\n",
       "      <th>ASSORTED COLOUR BIRD ORNAMENT</th>\n",
       "      <th>CREAM HANGING HEART T-LIGHT HOLDER</th>\n",
       "      <th>JUMBO BAG RED RETROSPOT</th>\n",
       "      <th>LUNCH BAG  BLACK SKULL.</th>\n",
       "      <th>LUNCH BAG RED RETROSPOT</th>\n",
       "      <th>PACK OF 72 RETROSPOT CAKE CASES</th>\n",
       "      <th>PARTY BUNTING</th>\n",
       "      <th>POPCORN HOLDER</th>\n",
       "      <th>REGENCY CAKESTAND 3 TIER</th>\n",
       "      <th>SET OF 3 CAKE TINS PANTRY DESIGN</th>\n",
       "    </tr>\n",
       "  </thead>\n",
       "  <tbody>\n",
       "    <tr>\n",
       "      <th>0</th>\n",
       "      <td>0</td>\n",
       "      <td>1</td>\n",
       "      <td>0</td>\n",
       "      <td>0</td>\n",
       "      <td>0</td>\n",
       "      <td>0</td>\n",
       "      <td>0</td>\n",
       "      <td>0</td>\n",
       "      <td>0</td>\n",
       "      <td>0</td>\n",
       "    </tr>\n",
       "    <tr>\n",
       "      <th>1</th>\n",
       "      <td>1</td>\n",
       "      <td>0</td>\n",
       "      <td>0</td>\n",
       "      <td>0</td>\n",
       "      <td>0</td>\n",
       "      <td>0</td>\n",
       "      <td>0</td>\n",
       "      <td>0</td>\n",
       "      <td>0</td>\n",
       "      <td>0</td>\n",
       "    </tr>\n",
       "    <tr>\n",
       "      <th>2</th>\n",
       "      <td>0</td>\n",
       "      <td>1</td>\n",
       "      <td>0</td>\n",
       "      <td>0</td>\n",
       "      <td>0</td>\n",
       "      <td>0</td>\n",
       "      <td>0</td>\n",
       "      <td>0</td>\n",
       "      <td>0</td>\n",
       "      <td>0</td>\n",
       "    </tr>\n",
       "    <tr>\n",
       "      <th>3</th>\n",
       "      <td>0</td>\n",
       "      <td>1</td>\n",
       "      <td>0</td>\n",
       "      <td>0</td>\n",
       "      <td>0</td>\n",
       "      <td>0</td>\n",
       "      <td>0</td>\n",
       "      <td>0</td>\n",
       "      <td>0</td>\n",
       "      <td>0</td>\n",
       "    </tr>\n",
       "    <tr>\n",
       "      <th>4</th>\n",
       "      <td>0</td>\n",
       "      <td>0</td>\n",
       "      <td>0</td>\n",
       "      <td>0</td>\n",
       "      <td>1</td>\n",
       "      <td>0</td>\n",
       "      <td>0</td>\n",
       "      <td>0</td>\n",
       "      <td>0</td>\n",
       "      <td>0</td>\n",
       "    </tr>\n",
       "  </tbody>\n",
       "</table>\n",
       "</div>"
      ],
      "text/plain": [
       "   ASSORTED COLOUR BIRD ORNAMENT  CREAM HANGING HEART T-LIGHT HOLDER  \\\n",
       "0                              0                                   1   \n",
       "1                              1                                   0   \n",
       "2                              0                                   1   \n",
       "3                              0                                   1   \n",
       "4                              0                                   0   \n",
       "\n",
       "   JUMBO BAG RED RETROSPOT  LUNCH BAG  BLACK SKULL.  LUNCH BAG RED RETROSPOT  \\\n",
       "0                        0                        0                        0   \n",
       "1                        0                        0                        0   \n",
       "2                        0                        0                        0   \n",
       "3                        0                        0                        0   \n",
       "4                        0                        0                        1   \n",
       "\n",
       "   PACK OF 72 RETROSPOT CAKE CASES  PARTY BUNTING  POPCORN HOLDER  \\\n",
       "0                                0              0               0   \n",
       "1                                0              0               0   \n",
       "2                                0              0               0   \n",
       "3                                0              0               0   \n",
       "4                                0              0               0   \n",
       "\n",
       "   REGENCY CAKESTAND 3 TIER  SET OF 3 CAKE TINS PANTRY DESIGN   \n",
       "0                         0                                  0  \n",
       "1                         0                                  0  \n",
       "2                         0                                  0  \n",
       "3                         0                                  0  \n",
       "4                         0                                  0  "
      ]
     },
     "execution_count": 59,
     "metadata": {},
     "output_type": "execute_result"
    }
   ],
   "source": [
    "# One-hot encode the \"Description\" variable with dummy variables for each unique description.\n",
    "# Prefix each dummy variable name with \"Description\".\n",
    "description_encoded = \\\n",
    "pd.get_dummies(data = online_history['Description'],\n",
    "              drop_first = False, )\n",
    "# Preview the first five rows of the DataFrame.\n",
    "description_encoded.head()"
   ]
  },
  {
   "cell_type": "code",
   "execution_count": 60,
   "metadata": {},
   "outputs": [],
   "source": [
    "# Concatenate the new encoded columns with the main DataFrame.\n",
    "online_history_encoded = \\\n",
    "pd.concat([online_history, description_encoded], axis = 1)\n",
    "\n",
    "# Drop the original \"Description\" variable.\n",
    "\n",
    "online_history_encoded.drop(['Description'], axis = 1, inplace = True)"
   ]
  },
  {
   "cell_type": "code",
   "execution_count": 61,
   "metadata": {},
   "outputs": [
    {
     "data": {
      "text/html": [
       "<div>\n",
       "<style scoped>\n",
       "    .dataframe tbody tr th:only-of-type {\n",
       "        vertical-align: middle;\n",
       "    }\n",
       "\n",
       "    .dataframe tbody tr th {\n",
       "        vertical-align: top;\n",
       "    }\n",
       "\n",
       "    .dataframe thead th {\n",
       "        text-align: right;\n",
       "    }\n",
       "</style>\n",
       "<table border=\"1\" class=\"dataframe\">\n",
       "  <thead>\n",
       "    <tr style=\"text-align: right;\">\n",
       "      <th></th>\n",
       "      <th>Invoice</th>\n",
       "      <th>StockCode</th>\n",
       "      <th>Quantity</th>\n",
       "      <th>InvoiceDate</th>\n",
       "      <th>Price</th>\n",
       "      <th>CustomerID</th>\n",
       "      <th>Country</th>\n",
       "      <th>TotalAmount</th>\n",
       "      <th>ASSORTED COLOUR BIRD ORNAMENT</th>\n",
       "      <th>CREAM HANGING HEART T-LIGHT HOLDER</th>\n",
       "      <th>JUMBO BAG RED RETROSPOT</th>\n",
       "      <th>LUNCH BAG  BLACK SKULL.</th>\n",
       "      <th>LUNCH BAG RED RETROSPOT</th>\n",
       "      <th>PACK OF 72 RETROSPOT CAKE CASES</th>\n",
       "      <th>PARTY BUNTING</th>\n",
       "      <th>POPCORN HOLDER</th>\n",
       "      <th>REGENCY CAKESTAND 3 TIER</th>\n",
       "      <th>SET OF 3 CAKE TINS PANTRY DESIGN</th>\n",
       "    </tr>\n",
       "  </thead>\n",
       "  <tbody>\n",
       "    <tr>\n",
       "      <th>0</th>\n",
       "      <td>536365</td>\n",
       "      <td>85123A</td>\n",
       "      <td>1.791759</td>\n",
       "      <td>2010-12-01 08:26:00</td>\n",
       "      <td>0.936093</td>\n",
       "      <td>u1785</td>\n",
       "      <td>United Kingdom</td>\n",
       "      <td>2.727853</td>\n",
       "      <td>0</td>\n",
       "      <td>1</td>\n",
       "      <td>0</td>\n",
       "      <td>0</td>\n",
       "      <td>0</td>\n",
       "      <td>0</td>\n",
       "      <td>0</td>\n",
       "      <td>0</td>\n",
       "      <td>0</td>\n",
       "      <td>0</td>\n",
       "    </tr>\n",
       "    <tr>\n",
       "      <th>1</th>\n",
       "      <td>536367</td>\n",
       "      <td>84879</td>\n",
       "      <td>3.465736</td>\n",
       "      <td>2010-12-01 08:34:00</td>\n",
       "      <td>0.524729</td>\n",
       "      <td>u13047</td>\n",
       "      <td>United Kingdom</td>\n",
       "      <td>3.990464</td>\n",
       "      <td>1</td>\n",
       "      <td>0</td>\n",
       "      <td>0</td>\n",
       "      <td>0</td>\n",
       "      <td>0</td>\n",
       "      <td>0</td>\n",
       "      <td>0</td>\n",
       "      <td>0</td>\n",
       "      <td>0</td>\n",
       "      <td>0</td>\n",
       "    </tr>\n",
       "    <tr>\n",
       "      <th>2</th>\n",
       "      <td>536373</td>\n",
       "      <td>85123A</td>\n",
       "      <td>1.791759</td>\n",
       "      <td>2010-12-01 09:02:00</td>\n",
       "      <td>0.936093</td>\n",
       "      <td>u1785</td>\n",
       "      <td>United Kingdom</td>\n",
       "      <td>2.727853</td>\n",
       "      <td>0</td>\n",
       "      <td>1</td>\n",
       "      <td>0</td>\n",
       "      <td>0</td>\n",
       "      <td>0</td>\n",
       "      <td>0</td>\n",
       "      <td>0</td>\n",
       "      <td>0</td>\n",
       "      <td>0</td>\n",
       "      <td>0</td>\n",
       "    </tr>\n",
       "    <tr>\n",
       "      <th>3</th>\n",
       "      <td>536375</td>\n",
       "      <td>85123A</td>\n",
       "      <td>1.791759</td>\n",
       "      <td>2010-12-01 09:32:00</td>\n",
       "      <td>0.936093</td>\n",
       "      <td>u1785</td>\n",
       "      <td>United Kingdom</td>\n",
       "      <td>2.727853</td>\n",
       "      <td>0</td>\n",
       "      <td>1</td>\n",
       "      <td>0</td>\n",
       "      <td>0</td>\n",
       "      <td>0</td>\n",
       "      <td>0</td>\n",
       "      <td>0</td>\n",
       "      <td>0</td>\n",
       "      <td>0</td>\n",
       "      <td>0</td>\n",
       "    </tr>\n",
       "    <tr>\n",
       "      <th>4</th>\n",
       "      <td>536378</td>\n",
       "      <td>20725</td>\n",
       "      <td>2.302585</td>\n",
       "      <td>2010-12-01 09:37:00</td>\n",
       "      <td>0.500775</td>\n",
       "      <td>u14688</td>\n",
       "      <td>United Kingdom</td>\n",
       "      <td>2.803360</td>\n",
       "      <td>0</td>\n",
       "      <td>0</td>\n",
       "      <td>0</td>\n",
       "      <td>0</td>\n",
       "      <td>1</td>\n",
       "      <td>0</td>\n",
       "      <td>0</td>\n",
       "      <td>0</td>\n",
       "      <td>0</td>\n",
       "      <td>0</td>\n",
       "    </tr>\n",
       "  </tbody>\n",
       "</table>\n",
       "</div>"
      ],
      "text/plain": [
       "  Invoice StockCode  Quantity         InvoiceDate     Price CustomerID  \\\n",
       "0  536365    85123A  1.791759 2010-12-01 08:26:00  0.936093      u1785   \n",
       "1  536367     84879  3.465736 2010-12-01 08:34:00  0.524729     u13047   \n",
       "2  536373    85123A  1.791759 2010-12-01 09:02:00  0.936093      u1785   \n",
       "3  536375    85123A  1.791759 2010-12-01 09:32:00  0.936093      u1785   \n",
       "4  536378     20725  2.302585 2010-12-01 09:37:00  0.500775     u14688   \n",
       "\n",
       "          Country  TotalAmount  ASSORTED COLOUR BIRD ORNAMENT  \\\n",
       "0  United Kingdom     2.727853                              0   \n",
       "1  United Kingdom     3.990464                              1   \n",
       "2  United Kingdom     2.727853                              0   \n",
       "3  United Kingdom     2.727853                              0   \n",
       "4  United Kingdom     2.803360                              0   \n",
       "\n",
       "   CREAM HANGING HEART T-LIGHT HOLDER  JUMBO BAG RED RETROSPOT  \\\n",
       "0                                   1                        0   \n",
       "1                                   0                        0   \n",
       "2                                   1                        0   \n",
       "3                                   1                        0   \n",
       "4                                   0                        0   \n",
       "\n",
       "   LUNCH BAG  BLACK SKULL.  LUNCH BAG RED RETROSPOT  \\\n",
       "0                        0                        0   \n",
       "1                        0                        0   \n",
       "2                        0                        0   \n",
       "3                        0                        0   \n",
       "4                        0                        1   \n",
       "\n",
       "   PACK OF 72 RETROSPOT CAKE CASES  PARTY BUNTING  POPCORN HOLDER  \\\n",
       "0                                0              0               0   \n",
       "1                                0              0               0   \n",
       "2                                0              0               0   \n",
       "3                                0              0               0   \n",
       "4                                0              0               0   \n",
       "\n",
       "   REGENCY CAKESTAND 3 TIER  SET OF 3 CAKE TINS PANTRY DESIGN   \n",
       "0                         0                                  0  \n",
       "1                         0                                  0  \n",
       "2                         0                                  0  \n",
       "3                         0                                  0  \n",
       "4                         0                                  0  "
      ]
     },
     "execution_count": 61,
     "metadata": {},
     "output_type": "execute_result"
    }
   ],
   "source": [
    "# Preview the first five rows of the data.\n",
    "\n",
    "online_history_encoded.head()"
   ]
  },
  {
   "cell_type": "markdown",
   "metadata": {},
   "source": [
    "# Identify and remove columns with low variance"
   ]
  },
  {
   "cell_type": "code",
   "execution_count": 62,
   "metadata": {},
   "outputs": [
    {
     "data": {
      "text/plain": [
       "Quantity                              1.235379\n",
       "Price                                 0.832905\n",
       "TotalAmount                           1.209104\n",
       "ASSORTED COLOUR BIRD ORNAMENT         0.308044\n",
       "CREAM HANGING HEART T-LIGHT HOLDER    0.362575\n",
       "JUMBO BAG RED RETROSPOT               0.322017\n",
       "LUNCH BAG  BLACK SKULL.               0.274661\n",
       "LUNCH BAG RED RETROSPOT               0.288011\n",
       "PACK OF 72 RETROSPOT CAKE CASES       0.254417\n",
       "PARTY BUNTING                         0.306081\n",
       "POPCORN HOLDER                        0.267557\n",
       "REGENCY CAKESTAND 3 TIER              0.317766\n",
       "SET OF 3 CAKE TINS PANTRY DESIGN      0.273557\n",
       "dtype: float64"
      ]
     },
     "execution_count": 62,
     "metadata": {},
     "output_type": "execute_result"
    }
   ],
   "source": [
    "# Obtain the standard deviation of each variable.\n",
    "\n",
    "online_history_encoded.std(numeric_only = True)"
   ]
  },
  {
   "cell_type": "code",
   "execution_count": 63,
   "metadata": {},
   "outputs": [
    {
     "name": "stdout",
     "output_type": "stream",
     "text": [
      "Features with low standard deviation: \n",
      " ['PACK OF 72 RETROSPOT CAKE CASES']\n"
     ]
    }
   ],
   "source": [
    "# Define a standard deviation threshold of 0.26.\n",
    "\n",
    "threshold = 0.26\n",
    "\n",
    "# Identify any columns that are lower than the threshold.\n",
    "std_without_date = online_history_encoded.std(numeric_only = True)\n",
    "cols_to_drop = \\\n",
    "list(std_without_date[std_without_date < threshold].index.values)\n",
    "\n",
    "# Print the column(s) that will be dropped.\n",
    "\n",
    "print('Features with low standard deviation: \\n', cols_to_drop)"
   ]
  },
  {
   "cell_type": "code",
   "execution_count": 64,
   "metadata": {},
   "outputs": [
    {
     "data": {
      "text/html": [
       "<div>\n",
       "<style scoped>\n",
       "    .dataframe tbody tr th:only-of-type {\n",
       "        vertical-align: middle;\n",
       "    }\n",
       "\n",
       "    .dataframe tbody tr th {\n",
       "        vertical-align: top;\n",
       "    }\n",
       "\n",
       "    .dataframe thead th {\n",
       "        text-align: right;\n",
       "    }\n",
       "</style>\n",
       "<table border=\"1\" class=\"dataframe\">\n",
       "  <thead>\n",
       "    <tr style=\"text-align: right;\">\n",
       "      <th></th>\n",
       "      <th>Invoice</th>\n",
       "      <th>StockCode</th>\n",
       "      <th>Quantity</th>\n",
       "      <th>InvoiceDate</th>\n",
       "      <th>Price</th>\n",
       "      <th>CustomerID</th>\n",
       "      <th>Country</th>\n",
       "      <th>TotalAmount</th>\n",
       "      <th>ASSORTED COLOUR BIRD ORNAMENT</th>\n",
       "      <th>CREAM HANGING HEART T-LIGHT HOLDER</th>\n",
       "      <th>JUMBO BAG RED RETROSPOT</th>\n",
       "      <th>LUNCH BAG  BLACK SKULL.</th>\n",
       "      <th>LUNCH BAG RED RETROSPOT</th>\n",
       "      <th>PARTY BUNTING</th>\n",
       "      <th>POPCORN HOLDER</th>\n",
       "      <th>REGENCY CAKESTAND 3 TIER</th>\n",
       "      <th>SET OF 3 CAKE TINS PANTRY DESIGN</th>\n",
       "    </tr>\n",
       "  </thead>\n",
       "  <tbody>\n",
       "    <tr>\n",
       "      <th>0</th>\n",
       "      <td>536365</td>\n",
       "      <td>85123A</td>\n",
       "      <td>1.791759</td>\n",
       "      <td>2010-12-01 08:26:00</td>\n",
       "      <td>0.936093</td>\n",
       "      <td>u1785</td>\n",
       "      <td>United Kingdom</td>\n",
       "      <td>2.727853</td>\n",
       "      <td>0</td>\n",
       "      <td>1</td>\n",
       "      <td>0</td>\n",
       "      <td>0</td>\n",
       "      <td>0</td>\n",
       "      <td>0</td>\n",
       "      <td>0</td>\n",
       "      <td>0</td>\n",
       "      <td>0</td>\n",
       "    </tr>\n",
       "    <tr>\n",
       "      <th>1</th>\n",
       "      <td>536367</td>\n",
       "      <td>84879</td>\n",
       "      <td>3.465736</td>\n",
       "      <td>2010-12-01 08:34:00</td>\n",
       "      <td>0.524729</td>\n",
       "      <td>u13047</td>\n",
       "      <td>United Kingdom</td>\n",
       "      <td>3.990464</td>\n",
       "      <td>1</td>\n",
       "      <td>0</td>\n",
       "      <td>0</td>\n",
       "      <td>0</td>\n",
       "      <td>0</td>\n",
       "      <td>0</td>\n",
       "      <td>0</td>\n",
       "      <td>0</td>\n",
       "      <td>0</td>\n",
       "    </tr>\n",
       "    <tr>\n",
       "      <th>2</th>\n",
       "      <td>536373</td>\n",
       "      <td>85123A</td>\n",
       "      <td>1.791759</td>\n",
       "      <td>2010-12-01 09:02:00</td>\n",
       "      <td>0.936093</td>\n",
       "      <td>u1785</td>\n",
       "      <td>United Kingdom</td>\n",
       "      <td>2.727853</td>\n",
       "      <td>0</td>\n",
       "      <td>1</td>\n",
       "      <td>0</td>\n",
       "      <td>0</td>\n",
       "      <td>0</td>\n",
       "      <td>0</td>\n",
       "      <td>0</td>\n",
       "      <td>0</td>\n",
       "      <td>0</td>\n",
       "    </tr>\n",
       "    <tr>\n",
       "      <th>3</th>\n",
       "      <td>536375</td>\n",
       "      <td>85123A</td>\n",
       "      <td>1.791759</td>\n",
       "      <td>2010-12-01 09:32:00</td>\n",
       "      <td>0.936093</td>\n",
       "      <td>u1785</td>\n",
       "      <td>United Kingdom</td>\n",
       "      <td>2.727853</td>\n",
       "      <td>0</td>\n",
       "      <td>1</td>\n",
       "      <td>0</td>\n",
       "      <td>0</td>\n",
       "      <td>0</td>\n",
       "      <td>0</td>\n",
       "      <td>0</td>\n",
       "      <td>0</td>\n",
       "      <td>0</td>\n",
       "    </tr>\n",
       "    <tr>\n",
       "      <th>4</th>\n",
       "      <td>536378</td>\n",
       "      <td>20725</td>\n",
       "      <td>2.302585</td>\n",
       "      <td>2010-12-01 09:37:00</td>\n",
       "      <td>0.500775</td>\n",
       "      <td>u14688</td>\n",
       "      <td>United Kingdom</td>\n",
       "      <td>2.803360</td>\n",
       "      <td>0</td>\n",
       "      <td>0</td>\n",
       "      <td>0</td>\n",
       "      <td>0</td>\n",
       "      <td>1</td>\n",
       "      <td>0</td>\n",
       "      <td>0</td>\n",
       "      <td>0</td>\n",
       "      <td>0</td>\n",
       "    </tr>\n",
       "  </tbody>\n",
       "</table>\n",
       "</div>"
      ],
      "text/plain": [
       "  Invoice StockCode  Quantity         InvoiceDate     Price CustomerID  \\\n",
       "0  536365    85123A  1.791759 2010-12-01 08:26:00  0.936093      u1785   \n",
       "1  536367     84879  3.465736 2010-12-01 08:34:00  0.524729     u13047   \n",
       "2  536373    85123A  1.791759 2010-12-01 09:02:00  0.936093      u1785   \n",
       "3  536375    85123A  1.791759 2010-12-01 09:32:00  0.936093      u1785   \n",
       "4  536378     20725  2.302585 2010-12-01 09:37:00  0.500775     u14688   \n",
       "\n",
       "          Country  TotalAmount  ASSORTED COLOUR BIRD ORNAMENT  \\\n",
       "0  United Kingdom     2.727853                              0   \n",
       "1  United Kingdom     3.990464                              1   \n",
       "2  United Kingdom     2.727853                              0   \n",
       "3  United Kingdom     2.727853                              0   \n",
       "4  United Kingdom     2.803360                              0   \n",
       "\n",
       "   CREAM HANGING HEART T-LIGHT HOLDER  JUMBO BAG RED RETROSPOT  \\\n",
       "0                                   1                        0   \n",
       "1                                   0                        0   \n",
       "2                                   1                        0   \n",
       "3                                   1                        0   \n",
       "4                                   0                        0   \n",
       "\n",
       "   LUNCH BAG  BLACK SKULL.  LUNCH BAG RED RETROSPOT  PARTY BUNTING  \\\n",
       "0                        0                        0              0   \n",
       "1                        0                        0              0   \n",
       "2                        0                        0              0   \n",
       "3                        0                        0              0   \n",
       "4                        0                        1              0   \n",
       "\n",
       "   POPCORN HOLDER  REGENCY CAKESTAND 3 TIER  SET OF 3 CAKE TINS PANTRY DESIGN   \n",
       "0               0                         0                                  0  \n",
       "1               0                         0                                  0  \n",
       "2               0                         0                                  0  \n",
       "3               0                         0                                  0  \n",
       "4               0                         0                                  0  "
      ]
     },
     "execution_count": 64,
     "metadata": {},
     "output_type": "execute_result"
    }
   ],
   "source": [
    "# Drop the column(s) that have low standard deviation from the main dataset.\n",
    "users_data_interim = online_history_encoded.drop(cols_to_drop, axis = 1)\n",
    "\n",
    "# Preview the first five rows of data.\n",
    "\n",
    "users_data_interim.head()"
   ]
  },
  {
   "cell_type": "markdown",
   "metadata": {},
   "source": [
    "# Generate box plots for each numeric variable"
   ]
  },
  {
   "cell_type": "code",
   "execution_count": 65,
   "metadata": {},
   "outputs": [
    {
     "data": {
      "text/plain": [
       "<AxesSubplot:>"
      ]
     },
     "execution_count": 65,
     "metadata": {},
     "output_type": "execute_result"
    },
    {
     "data": {
      "image/png": "[encoded data removed]",
      "text/plain": [
       "<Figure size 864x504 with 1 Axes>"
      ]
     },
     "metadata": {
      "needs_background": "light"
     },
     "output_type": "display_data"
    }
   ],
   "source": [
    "## Draw box plots for each numeric variable.\n",
    "users_data_for_plot = \\\n",
    "users_data_interim.select_dtypes(include = ['int64', 'float64'])\n",
    "plt.figure(figsize=(12,7))\n",
    "\n",
    "users_data_for_plot.boxplot()"
   ]
  },
  {
   "cell_type": "markdown",
   "metadata": {},
   "source": [
    "# Identify and remove outliers"
   ]
  },
  {
   "cell_type": "code",
   "execution_count": 66,
   "metadata": {},
   "outputs": [],
   "source": [
    "# This function returns the lower and upper bounds of a numeric input variable.\n",
    "\n",
    "def calc_outliers(var):\n",
    "    q3 = np.percentile(var, 75) \n",
    "    q1 = np.percentile(var, 25)\n",
    "\n",
    "    iqr = 1.5 * (q3 - q1)\n",
    "\n",
    "    lb = q1 - iqr\n",
    "    ub = q3 + iqr\n",
    "\n",
    "    print('Lower bound of outliers:', round(lb, 2), '\\nUpper bound of outliers:', round(ub, 2))\n",
    "    \n",
    "    return lb, ub"
   ]
  },
  {
   "cell_type": "code",
   "execution_count": 67,
   "metadata": {},
   "outputs": [
    {
     "data": {
      "text/plain": [
       "(12435, 17)"
      ]
     },
     "execution_count": 67,
     "metadata": {},
     "output_type": "execute_result"
    }
   ],
   "source": [
    "# Identify the shape of the data before removing outliers.\n",
    "\n",
    "users_data_interim.shape"
   ]
  },
  {
   "cell_type": "code",
   "execution_count": 68,
   "metadata": {},
   "outputs": [
    {
     "name": "stdout",
     "output_type": "stream",
     "text": [
      "Lower bound of outliers: -1.32 \n",
      "Upper bound of outliers: 5.12\n",
      "Shape after Quantity filtering: (12311, 17);\n",
      "Lower bound of outliers: -1.15 \n",
      "Upper bound of outliers: 3.25\n",
      "Shape after Price filtering: (12311, 17);\n",
      "Lower bound of outliers: 0.64 \n",
      "Upper bound of outliers: 5.04\n",
      "Shape after TotalAmount filtering: (11058, 17);\n"
     ]
    }
   ],
   "source": [
    "# Call the calc_outliers() function iteratively for each numeric variable.\n",
    "# For each variable:\n",
    "#     Remove the outliers that are higher than the upper bounds.\n",
    "#     Remove the variables that are lower than the lower bounds.\n",
    "# As you iterate through each variable, print the shape of the data after the outliers for that variable are removed.\n",
    "\n",
    "numeric_columns = users_data_for_plot.columns\n",
    "users_data_interim = users_data_interim\n",
    "for column in numeric_columns:\n",
    "    lb, ub = calc_outliers(users_data_interim[column])\n",
    "    users_data_interim = \\\n",
    "    users_data_interim.loc[(users_data_interim[column] <= ub) & (users_data_interim[column] >= lb)]\n",
    "    print(f'Shape after {column} filtering: {users_data_interim.shape};')\n"
   ]
  },
  {
   "cell_type": "markdown",
   "metadata": {},
   "source": [
    "# Save the final dataset as a pickle file"
   ]
  },
  {
   "cell_type": "code",
   "execution_count": 69,
   "metadata": {},
   "outputs": [],
   "source": [
    "# Save the final dataset as a pickle file named online_history_cleaned_final.pickle.\n",
    "\n",
    "users_data_interim.to_pickle('data/users_data.pickle')"
   ]
  }
 ],
 "metadata": {
  "kernelspec": {
   "display_name": "Python 3.9.12 ('base')",
   "language": "python",
   "name": "python3"
  },
  "language_info": {
   "codemirror_mode": {
    "name": "ipython",
    "version": 3
   },
   "file_extension": ".py",
   "mimetype": "text/x-python",
   "name": "python",
   "nbconvert_exporter": "python",
   "pygments_lexer": "ipython3",
   "version": "3.9.12"
  },
  "vscode": {
   "interpreter": {
    "hash": "effe0537abfed60f911a6d119edf3dd23784c9dcf6ad90564d0c8420279a3d36"
   }
  }
 },
 "nbformat": 4,
 "nbformat_minor": 4
}
